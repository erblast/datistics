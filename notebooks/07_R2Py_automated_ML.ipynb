{
 "cells": [
  {
   "cell_type": "markdown",
   "metadata": {},
   "source": [
    "{{< image classes=\"center\" src=\"../../../r2py.png\" thumbnail=\"../../../r2py.png\" thumbnail-width=\"180px\" thumbnail-height=\"180px\">}}\n",
    "\n",
    "\n",
    "\n",
    "- [1 of 7: IDE]( {{< relref \"2018-08-21-r2py_ide.md\" >}}  )\n",
    "- [2 of 7: pandas]( {{< relref \"2018-08-22-r2py_pandas.md\" >}}  )\n",
    "- [3 of 7: matplotlib and seaborn]( {{< relref \"2018-08-23-r2py_matplotlib_seaborn.md\" >}}  )\n",
    "- [4 of 7: plotly]( {{< relref \"2018-08-24-r2py_plotly.md\" >}}  )\n",
    "- [5 of 7: scikitlearn]( {{< relref \"2018-08-25-r2py_scikitlearn.md\" >}}  )\n",
    "- [6 of 7: advanced scikitlearn]( {{< relref \"2018-08-26-r2py_scikitlearn_advanced.md\" >}}  )\n",
    "- [7 of 7: automated machine learning]( {{< relref \"2018-08-27-r2py_automated_ML.md\" >}}  )\n",
    "\n",
    "\n",
    "\n",
    "<!-- toc -->\n",
    "\n",
    "# Automated Machine Learning\n",
    "\n",
    "We have seen in the previous [post on advanced scikitlearn methods]( {{< relref \"2018-08-26-r2py_scikitlearn_advanced.md\" >}}) that using pipes in `scikitlearn` allows us to write pretty generalizable code, however we still need to customize our  modelling pipeline to the algorithms that we want to use. However theoretically since `scikitlearn` uses a unified synthax there is no reason why we should not try all the modelling algorithms supported by scikitlearn. We can also combine the modelling algorithm with various feature selection and preprocessing steps. The first limiting factor is that theoretically we need to define the hyperparameter space that is being searched for each model even if we are using randomized search. Which requires some manual coding the second limiting factor is computational power it will simply take a very long time to go through all possible combinations of pipes that we could build. \n",
    "\n",
    "Packages for automated machine learning have taken care of the manual work we would need to do to program the hyperparameter search and mitigate the problem of computational power by employing specific search strategies that allow us to preselect pipes that are likely to succeed and optimise hyperparameter search in a way that we do not have to test every single combinations. \n",
    "\n"
   ]
  },
  {
   "cell_type": "markdown",
   "metadata": {},
   "source": [
    "\n",
    "\n",
    "## `tpot`\n",
    "`tpot` is a data science assistant that iteratively constructs `sklearn` pipelines and optimises them using genetic programming algorithms that are able to optimize multiple criteria simulaneously while minimizing complexity at the same time. It uses a package called [deap](https://deap.readthedocs.io/en/master/)\n",
    "\n",
    "- Supports regression and classification\n",
    "- Supports the usual performance metrics\n",
    "- Is meant to run for hours to days\n",
    "- We can inspect the process anytime and look at intermediate results\n",
    "- We can limit algorithms and hyperparameter space (not so usefull at the moment because we have to sepcifiy the whole pyrameter range and basically get stuck doing grid search)\n",
    "- `tpot` can generate python code to reconstruct the best models\n",
    "\n",
    "### Load data\n",
    "\n",
    "We have prepared the data that we are going to use in the previous [post on advanced scikitlearn methods]( {{< relref \"2018-08-26-r2py_scikitlearn_advanced.md\" >}}). It is basically the titanic dataset with imputed numerical and categorical variables.\n"
   ]
  },
  {
   "cell_type": "code",
   "execution_count": 1,
   "metadata": {},
   "outputs": [
    {
     "name": "stderr",
     "output_type": "stream",
     "text": [
      "C:\\anaconda\\envs\\py36r343\\lib\\site-packages\\ipykernel\\__main__.py:6: FutureWarning: Method .as_matrix will be removed in a future version. Use .values instead.\n"
     ]
    }
   ],
   "source": [
    "import feather\n",
    "\n",
    "df = feather.read_dataframe('./data/mapped_df.feather')\n",
    "\n",
    "y = df['y']\n",
    "X = df.drop('y', axis = 1)\\\n",
    " .as_matrix()\n"
   ]
  },
  {
   "cell_type": "markdown",
   "metadata": {},
   "source": [
    "### Run \n",
    "\n",
    "{{< alert info >}}\n",
    "We are using a limited version of `tpot` which uses only fast algorithms\n",
    "{{< /alert >}}\n"
   ]
  },
  {
   "cell_type": "code",
   "execution_count": 5,
   "metadata": {},
   "outputs": [
    {
     "data": {
      "application/vnd.jupyter.widget-view+json": {
       "model_id": "",
       "version_major": 2,
       "version_minor": 0
      },
      "text/plain": [
       "HBox(children=(IntProgress(value=0, description='Optimization Progress', max=12), HTML(value='')))"
      ]
     },
     "metadata": {},
     "output_type": "display_data"
    },
    {
     "name": "stdout",
     "output_type": "stream",
     "text": [
      "Generation 1 - Current best internal CV score: 0.8616010162631975\n",
      "Generation 2 - Current best internal CV score: 0.8628532835333793\n",
      "\n",
      "Best pipeline: LogisticRegression(Normalizer(input_matrix, norm=l1), C=20.0, dual=False, penalty=l1)\n"
     ]
    },
    {
     "data": {
      "text/plain": [
       "TPOTClassifier(config_dict='TPOT light', crossover_rate=0.1, cv=5,\n",
       "        disable_update_check=False, early_stop=None, generations=2,\n",
       "        max_eval_time_mins=5, max_time_mins=None, memory=None,\n",
       "        mutation_rate=0.9, n_jobs=4, offspring_size=5,\n",
       "        periodic_checkpoint_folder=None, population_size=2,\n",
       "        random_state=42, scoring='roc_auc', subsample=1.0, use_dask=False,\n",
       "        verbosity=2, warm_start=True)"
      ]
     },
     "execution_count": 5,
     "metadata": {},
     "output_type": "execute_result"
    }
   ],
   "source": [
    "from tpot import TPOTClassifier\n",
    "\n",
    "pipeline_optimizer = TPOTClassifier(generations=2\n",
    "                                    , population_size=2\n",
    "                                    , offspring_size = 5\n",
    "                                    ## TPOT will evaluate population_size \n",
    "                                    ## + generations × offspring_size = pipelines \n",
    "                                    ## in total.\n",
    "                                    , cv=5\n",
    "                                    , random_state=42 ##seed\n",
    "                                    , verbosity=2 ## print progressbar\n",
    "                                    , n_jobs = 4\n",
    "                                    , warm_start = True ## allows us to restart\n",
    "                                    , scoring = 'roc_auc'\n",
    "                                    , config_dict = 'TPOT light' ## only uses fast algorithms\n",
    "                                   )\n",
    "\n",
    "pipeline_optimizer.fit(X,y)"
   ]
  },
  {
   "cell_type": "code",
   "execution_count": 14,
   "metadata": {},
   "outputs": [
    {
     "data": {
      "text/plain": [
       "0.8745406320902439"
      ]
     },
     "execution_count": 14,
     "metadata": {},
     "output_type": "execute_result"
    }
   ],
   "source": [
    "pipeline_optimizer.score(X,y)"
   ]
  },
  {
   "cell_type": "markdown",
   "metadata": {},
   "source": [
    "### Export  best modelling pipeline as python code"
   ]
  },
  {
   "cell_type": "code",
   "execution_count": 16,
   "metadata": {},
   "outputs": [
    {
     "data": {
      "text/plain": [
       "True"
      ]
     },
     "execution_count": 16,
     "metadata": {},
     "output_type": "execute_result"
    }
   ],
   "source": [
    "pipeline_optimizer.export('./data/pipe.py')"
   ]
  },
  {
   "cell_type": "markdown",
   "metadata": {},
   "source": [
    "### Get the best pipe"
   ]
  },
  {
   "cell_type": "code",
   "execution_count": 18,
   "metadata": {},
   "outputs": [
    {
     "data": {
      "text/plain": [
       "Pipeline(memory=None,\n",
       "     steps=[('normalizer', Normalizer(copy=True, norm='l1')), ('logisticregression', LogisticRegression(C=20.0, class_weight=None, dual=False, fit_intercept=True,\n",
       "          intercept_scaling=1, max_iter=100, multi_class='ovr', n_jobs=1,\n",
       "          penalty='l1', random_state=None, solver='liblinear', tol=0.0001,\n",
       "          verbose=0, warm_start=False))])"
      ]
     },
     "execution_count": 18,
     "metadata": {},
     "output_type": "execute_result"
    }
   ],
   "source": [
    "pipeline_optimizer.fitted_pipeline_"
   ]
  },
  {
   "cell_type": "markdown",
   "metadata": {},
   "source": [
    "### Get all tested pipes"
   ]
  },
  {
   "cell_type": "code",
   "execution_count": 19,
   "metadata": {},
   "outputs": [
    {
     "data": {
      "text/plain": [
       "{'DecisionTreeClassifier(input_matrix, DecisionTreeClassifier__criterion=entropy, DecisionTreeClassifier__max_depth=2, DecisionTreeClassifier__min_samples_leaf=12, DecisionTreeClassifier__min_samples_split=4)': {'crossover_count': 0,\n",
       "  'generation': 'INVALID',\n",
       "  'internal_cv_score': 0.8557279030479364,\n",
       "  'mutation_count': 2,\n",
       "  'operator_count': 1,\n",
       "  'predecessor': ('DecisionTreeClassifier(input_matrix, DecisionTreeClassifier__criterion=entropy, DecisionTreeClassifier__max_depth=3, DecisionTreeClassifier__min_samples_leaf=12, DecisionTreeClassifier__min_samples_split=4)',)},\n",
       " 'DecisionTreeClassifier(input_matrix, DecisionTreeClassifier__criterion=entropy, DecisionTreeClassifier__max_depth=3, DecisionTreeClassifier__min_samples_leaf=12, DecisionTreeClassifier__min_samples_split=4)': {'crossover_count': 0,\n",
       "  'generation': 'INVALID',\n",
       "  'internal_cv_score': 0.8616010162631975,\n",
       "  'mutation_count': 1,\n",
       "  'operator_count': 1,\n",
       "  'predecessor': ('GaussianNB(input_matrix)',)},\n",
       " 'GaussianNB(input_matrix)': {'crossover_count': 0,\n",
       "  'generation': 0,\n",
       "  'internal_cv_score': 0.816504621285001,\n",
       "  'mutation_count': 0,\n",
       "  'operator_count': 1,\n",
       "  'predecessor': ('ROOT',)},\n",
       " 'KNeighborsClassifier(BernoulliNB(input_matrix, BernoulliNB__alpha=10.0, BernoulliNB__fit_prior=True), KNeighborsClassifier__n_neighbors=21, KNeighborsClassifier__p=1, KNeighborsClassifier__weights=distance)': {'crossover_count': 0,\n",
       "  'generation': 'INVALID',\n",
       "  'internal_cv_score': 0.8499987059406567,\n",
       "  'mutation_count': 1,\n",
       "  'operator_count': 2,\n",
       "  'predecessor': ('KNeighborsClassifier(input_matrix, KNeighborsClassifier__n_neighbors=21, KNeighborsClassifier__p=1, KNeighborsClassifier__weights=distance)',)},\n",
       " 'KNeighborsClassifier(BernoulliNB(input_matrix, BernoulliNB__alpha=100.0, BernoulliNB__fit_prior=True), KNeighborsClassifier__n_neighbors=21, KNeighborsClassifier__p=1, KNeighborsClassifier__weights=distance)': {'crossover_count': 0,\n",
       "  'generation': 'INVALID',\n",
       "  'internal_cv_score': 0.8484891857167135,\n",
       "  'mutation_count': 1,\n",
       "  'operator_count': 2,\n",
       "  'predecessor': ('KNeighborsClassifier(input_matrix, KNeighborsClassifier__n_neighbors=21, KNeighborsClassifier__p=1, KNeighborsClassifier__weights=distance)',)},\n",
       " 'KNeighborsClassifier(input_matrix, KNeighborsClassifier__n_neighbors=21, KNeighborsClassifier__p=1, KNeighborsClassifier__weights=distance)': {'crossover_count': 0,\n",
       "  'generation': 0,\n",
       "  'internal_cv_score': 0.8470927552585381,\n",
       "  'mutation_count': 0,\n",
       "  'operator_count': 1,\n",
       "  'predecessor': ('ROOT',)},\n",
       " 'KNeighborsClassifier(input_matrix, KNeighborsClassifier__n_neighbors=22, KNeighborsClassifier__p=1, KNeighborsClassifier__weights=distance)': {'crossover_count': 0,\n",
       "  'generation': 'INVALID',\n",
       "  'internal_cv_score': 0.846680654239431,\n",
       "  'mutation_count': 1,\n",
       "  'operator_count': 1,\n",
       "  'predecessor': ('KNeighborsClassifier(input_matrix, KNeighborsClassifier__n_neighbors=21, KNeighborsClassifier__p=1, KNeighborsClassifier__weights=distance)',)},\n",
       " 'LogisticRegression(MinMaxScaler(input_matrix), LogisticRegression__C=20.0, LogisticRegression__dual=False, LogisticRegression__penalty=l1)': {'crossover_count': 0,\n",
       "  'generation': 'INVALID',\n",
       "  'internal_cv_score': 0.8584054700315054,\n",
       "  'mutation_count': 2,\n",
       "  'operator_count': 2,\n",
       "  'predecessor': ('LogisticRegression(input_matrix, LogisticRegression__C=20.0, LogisticRegression__dual=False, LogisticRegression__penalty=l1)',)},\n",
       " 'LogisticRegression(Normalizer(input_matrix, Normalizer__norm=l1), LogisticRegression__C=20.0, LogisticRegression__dual=False, LogisticRegression__penalty=l1)': {'crossover_count': 0,\n",
       "  'generation': 'INVALID',\n",
       "  'internal_cv_score': 0.8628532835333793,\n",
       "  'mutation_count': 2,\n",
       "  'operator_count': 2,\n",
       "  'predecessor': ('LogisticRegression(input_matrix, LogisticRegression__C=20.0, LogisticRegression__dual=False, LogisticRegression__penalty=l1)',)},\n",
       " 'LogisticRegression(input_matrix, LogisticRegression__C=20.0, LogisticRegression__dual=False, LogisticRegression__penalty=l1)': {'crossover_count': 0,\n",
       "  'generation': 'INVALID',\n",
       "  'internal_cv_score': 0.8584323502037432,\n",
       "  'mutation_count': 1,\n",
       "  'operator_count': 1,\n",
       "  'predecessor': ('GaussianNB(input_matrix)',)},\n",
       " 'LogisticRegression(input_matrix, LogisticRegression__C=20.0, LogisticRegression__dual=False, LogisticRegression__penalty=l2)': {'crossover_count': 0,\n",
       "  'generation': 'INVALID',\n",
       "  'internal_cv_score': 0.8586414616613588,\n",
       "  'mutation_count': 2,\n",
       "  'operator_count': 1,\n",
       "  'predecessor': ('LogisticRegression(input_matrix, LogisticRegression__C=20.0, LogisticRegression__dual=False, LogisticRegression__penalty=l1)',)}}"
      ]
     },
     "execution_count": 19,
     "metadata": {},
     "output_type": "execute_result"
    }
   ],
   "source": [
    "pipeline_optimizer.evaluated_individuals_"
   ]
  },
  {
   "cell_type": "markdown",
   "metadata": {},
   "source": [
    "## `auto-sklearn`\n",
    "\n",
    "`auto-skelarn` uses bayesian methods to optimize computing time. We will add an example in a later version of this post\n",
    "\n",
    "## Summary\n",
    "\n",
    "Even though auto-sklearn still needs to be tested we could already obtain pretty decent results using `tpot` with a ROC score of 0.87 which is higher then our previous attempts. Normally I would follow the following strategy to select a model. \n",
    "\n",
    "- Test all models on the same cv pairs\n",
    "- Calculate mean and SEM for the performance metric of each variant\n",
    "- Look at the model with the lowest mean\n",
    "- Select the simplest model whose mean is still in the range of the overall lowest mean + SEM\n",
    "\n",
    "However `tpot` does not give us the SEM values thus we cannot select the model which it presents us to be the best and compare it to simpler ones it might have fitted. Given that the `tpot` algorithm is already minimizing the complexity we should simply accept the best model it returns. We should however then compare it to simpler models we can come up with to have a frame of reference to compare it to and of course we should check the `tpot` model for plausibility. \n"
   ]
  }
 ],
 "metadata": {
  "kernelspec": {
   "display_name": "Python [conda env:py36r343]",
   "language": "python",
   "name": "conda-env-py36r343-py"
  },
  "language_info": {
   "codemirror_mode": {
    "name": "ipython",
    "version": 3
   },
   "file_extension": ".py",
   "mimetype": "text/x-python",
   "name": "python",
   "nbconvert_exporter": "python",
   "pygments_lexer": "ipython3",
   "version": "3.5.5"
  }
 },
 "nbformat": 4,
 "nbformat_minor": 2
}
